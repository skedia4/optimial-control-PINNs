{
  "cells": [
    {
      "cell_type": "markdown",
      "source": [
        "### Cartpole Linearized Dynamics: \n",
        "$$   \\boldsymbol {\\dot x} =f(\\boldsymbol{x},\\boldsymbol{u}) = Ax+Bu= \\begin{bmatrix} 0 &1 &0 &0 \\\\0&0 & -0.98 &0\\\\0&0 &0 & 1 \\\\ 0 & 0 & 21.56 & 0 \\end{bmatrix}\\begin{bmatrix} x\\\\ \\dot{x}\\ \\\\ \\theta \\\\ \\dot{\\theta}\\end{bmatrix} + \\begin{bmatrix} 0 \\\\ 1 \\\\ 0 \\\\ -2 \\end{bmatrix}\\begin{bmatrix}u\\end{bmatrix} \\quad :\\boldsymbol x \\in \\mathbb{R}^4, \\boldsymbol u \\in \\mathbb{R}^1$$\n",
        "\n",
        "###Optimal Control problem (finite horizon with terminal cost): \n",
        "$$\\min_{u} \\mathcal{L} = \\boldsymbol x(t_f)^T \\boldsymbol M \\boldsymbol x(t_f) + \\int_{0}^{t_f}(\\boldsymbol x^T\\boldsymbol Q \\boldsymbol x+\\boldsymbol u^T\\boldsymbol R \\boldsymbol u )dt \\quad\\text{   where  } \\quad t_f=2, \\boldsymbol Q =\\boldsymbol I_{4 \\times 4}, \\boldsymbol R= \\boldsymbol I_{1 \\times 1}, \\boldsymbol M= \\boldsymbol I_{4 \\times 4}$$\n",
        "\n",
        "### HJB equation:\n",
        "$$ V_t = \\sup_\\boldsymbol u -H(\\boldsymbol x,V_x, \\boldsymbol u,t) = \\sup_\\boldsymbol u \\{-(\\nabla_\\boldsymbol x V)^Tf(\\boldsymbol x,\\boldsymbol u) - \\boldsymbol x^T\\boldsymbol Q \\boldsymbol x-\\boldsymbol u^T\\boldsymbol R \\boldsymbol u \\} $$\n",
        "\n",
        "$$ \\boldsymbol u_{opt} = -\\frac{1}{2}R^{-1} B^T \\nabla_\\boldsymbol x V$$\n",
        "\n",
        "Resulting PDE to solve:\n",
        "$$-V_t- \\boldsymbol x^T\\boldsymbol Q \\boldsymbol x - (\\nabla_\\boldsymbol x V)^T A \\boldsymbol x + \\frac{1}{4}(\\nabla_\\boldsymbol x V)^T B R^{-1} B^T(\\nabla_\\boldsymbol x V) = 0 \\quad  $$\n",
        "Subject to: $$V(2,\\boldsymbol x) = \\boldsymbol x^T M \\boldsymbol x \\quad \\forall \\boldsymbol x:  \\begin{bmatrix} x& \\dot{x} & \\theta & \\dot{\\theta} \\end{bmatrix}^T $$\n",
        "state space domain:\n",
        "$$ t \\in [0,2],  x \\in [-1,1], \\dot{x} \\in [-1,1], \\theta \\in[-\\pi,\\pi], \\dot{\\theta} \\in [-1,1]$$"
      ],
      "metadata": {
        "id": "VXkGZr32mQG5"
      },
      "id": "VXkGZr32mQG5"
    },
    {
      "cell_type": "code",
      "execution_count": 2,
      "metadata": {
        "id": "392f0d3f-a5de-49e8-a6e3-2d74112bd3df"
      },
      "outputs": [],
      "source": [
        "import matplotlib.pyplot as plt\n",
        "import numpy as np\n",
        "import torch\n",
        "from torch import nn\n",
        "from functools import partial"
      ],
      "id": "392f0d3f-a5de-49e8-a6e3-2d74112bd3df"
    },
    {
      "cell_type": "code",
      "execution_count": 3,
      "metadata": {
        "id": "1bc8687e-ac6a-4888-9a7c-c02650604671"
      },
      "outputs": [],
      "source": [
        "class ffnn(nn.Module):\n",
        "    \"\"\"basic FF network for approximating functions\"\"\"\n",
        "    def __init__(self, nn_width=10, num_hidden=3):\n",
        "        super().__init__()\n",
        "        \n",
        "        self.layer_first = nn.Linear(5, nn_width)\n",
        "        \n",
        "        layers = []\n",
        "        for _ in range(num_hidden):\n",
        "            layers.append(nn.Linear(nn_width, nn_width))\n",
        "        self.layer_hidden = nn.ModuleList(layers)\n",
        "        \n",
        "        self.layer_last = nn.Linear(nn_width, 1)\n",
        "        \n",
        "    def forward(self, x):\n",
        "        activation = nn.Tanh()\n",
        "        u = activation(self.layer_first(x))\n",
        "        for hidden in self.layer_hidden:\n",
        "            u = activation(hidden(u))\n",
        "        u = self.layer_last(u)\n",
        "        return u"
      ],
      "id": "1bc8687e-ac6a-4888-9a7c-c02650604671"
    },
    {
      "cell_type": "code",
      "execution_count": 4,
      "metadata": {
        "id": "51639300-a8de-40c1-b4b1-4965896efd37"
      },
      "outputs": [],
      "source": [
        "t1d=torch.linspace(0,1,15,requires_grad=True)\n",
        "x1d=torch.linspace(-1,1,15,requires_grad=True)\n",
        "x_dot_1d=torch.linspace(-1,1,15,requires_grad=True)\n",
        "th1d=torch.linspace(-3.141,3.141,15,requires_grad=True)\n",
        "th_dot_1d=torch.linspace(-1,1,15,requires_grad=True)\n",
        "\n",
        "tgrid, xgrid, x_dot_grid, thgrid, th_dot_grid = torch.meshgrid(t1d, x1d, x_dot_1d, th1d, th_dot_1d, indexing ='ij')\n",
        "\n",
        "t=tgrid.flatten().unsqueeze(-1)\n",
        "x=xgrid.flatten().unsqueeze(-1)\n",
        "x_dot=x_dot_grid.flatten().unsqueeze(-1)\n",
        "th=thgrid.flatten().unsqueeze(-1)\n",
        "th_dot=th_dot_grid.flatten().unsqueeze(-1)\n",
        "\n",
        "in_vec = torch.hstack((t,x,x_dot,th,th_dot))\n",
        "t_bou = torch.ones((in_vec.shape[0],1),dtype=torch.float64,requires_grad=True)\n",
        "\n",
        "A=torch.tensor([[0, 1, 0, 0], [0, 0, -0.98, 0],\n",
        "                 [0, 0, 0, 1], [0, 0, 21.56, 0]],dtype=torch.float64).unsqueeze(0)\n",
        "\n",
        "B=torch.tensor([[0, 1, 0, -2]], dtype=torch.float64).T\n",
        "\n",
        "\n",
        "# 2. set the model\n",
        "torch.manual_seed(23939)\n",
        "model = ffnn(64, 3)\n",
        "\n",
        "# 3. set the optimizer\n",
        "lr = 0.002\n",
        "opt = torch.optim.Adam(model.parameters(), lr)\n",
        "n_epochs = 50000\n",
        "mse_loss = nn.MSELoss()\n",
        "loss_history = []\n"
      ],
      "id": "51639300-a8de-40c1-b4b1-4965896efd37"
    },
    {
      "cell_type": "code",
      "execution_count": 5,
      "metadata": {
        "id": "6NjDnD9Ysf9p"
      },
      "outputs": [],
      "source": [
        "device = torch.device(\"cuda:0\" if torch.cuda.is_available() else \"cpu\")\n",
        "in_vec = in_vec.to(device).float()\n",
        "t_bou = t_bou.to(device).float()\n",
        "model = model.to(device)\n",
        "A= A.to(device)\n",
        "B= B.to(device)"
      ],
      "id": "6NjDnD9Ysf9p"
    },
    {
      "cell_type": "code",
      "source": [
        "def loss_function(model, in_vec,t_bou):\n",
        "  v=model(in_vec)\n",
        "  v_x_1= model(torch.hstack((t_bou,in_vec[:,1:])))\n",
        "\n",
        "  loss_v_1= (v_x_1**2).mean()\n",
        "  \n",
        "  v_X = torch.autograd.grad(v, in_vec,grad_outputs=t_bou,retain_graph=True,create_graph=True)[0]\n",
        "\n",
        "  AX=torch.einsum('BNi,BiM -> BNM',A.repeat(v_X.shape[0],1,1).float(),in_vec[:,1:].unsqueeze(-1).float())\n",
        "\n",
        "  V_XTB= torch.einsum('BNi,BiM -> BNM', v_X[:,1:].unsqueeze(1).float(), B.repeat(v_X.shape[0],1,1).float()).squeeze(-1)\n",
        "\n",
        "  r= -v_X[:,0].view(-1,1) - torch.sum(torch.square(in_vec[:,1:]),axis =1).view(-1,1) \n",
        "  - torch.einsum('BNi,BiM -> BNM',v_X[:,1:].unsqueeze(1), AX).squeeze(-1)\n",
        "  + 0.25* torch.square(V_XTB)\n",
        "\n",
        "  loss_r = (r**2).mean()\n",
        "  loss_value = loss_v_1 + loss_r\n",
        "  return loss_value"
      ],
      "metadata": {
        "id": "h2zAXPsbEGC2"
      },
      "id": "h2zAXPsbEGC2",
      "execution_count": 6,
      "outputs": []
    },
    {
      "cell_type": "code",
      "execution_count": null,
      "metadata": {
        "id": "467cf557-fd0f-4f56-994a-5de1d2e5985f"
      },
      "outputs": [],
      "source": [
        "for i in range(n_epochs):\n",
        "  loss=loss_function(model, in_vec, t_bou)\n",
        "  opt.zero_grad()\n",
        "  loss_history.append(loss.item())\n",
        "  loss.backward()\n",
        "  opt.step()\n",
        "  if i % 1000 == 0:\n",
        "    print(f'epoch {i}, loss = {loss}')"
      ],
      "id": "467cf557-fd0f-4f56-994a-5de1d2e5985f"
    },
    {
      "cell_type": "code",
      "execution_count": 7,
      "metadata": {
        "id": "bXm8JsN2H-tr"
      },
      "outputs": [],
      "source": [
        "torch.save(model.state_dict(), \"cartpole_mod.pth\")\n",
        "torch.save(loss_history, \"cartpole_loss_history.pt\")"
      ],
      "id": "bXm8JsN2H-tr"
    },
    {
      "cell_type": "markdown",
      "metadata": {
        "id": "012ab8f8-91ac-486b-8da5-01e69b6e9829"
      },
      "source": [
        "# Plot the solution"
      ],
      "id": "012ab8f8-91ac-486b-8da5-01e69b6e9829"
    },
    {
      "cell_type": "code",
      "execution_count": 8,
      "metadata": {
        "id": "9edfe055-78c5-4461-9280-b7759404cb26",
        "colab": {
          "base_uri": "https://localhost:8080/",
          "height": 279
        },
        "outputId": "e441f578-2d37-4dd8-b05b-9a840d53a4f0"
      },
      "outputs": [
        {
          "output_type": "display_data",
          "data": {
            "text/plain": [
              "<Figure size 432x288 with 1 Axes>"
            ],
            "image/png": "[encoded data removed]"
          },
          "metadata": {
            "needs_background": "light"
          }
        }
      ],
      "source": [
        "plt.plot(loss_history)\n",
        "plt.xlabel('optimization step')\n",
        "plt.ylabel('loss');\n",
        "plt.yscale('log')"
      ],
      "id": "9edfe055-78c5-4461-9280-b7759404cb26"
    },
    {
      "cell_type": "code",
      "source": [
        "model = ffnn(64,3)\n",
        "model.load_state_dict(torch.load('cartpole_mod.pth',map_location='cpu'))\n",
        "model.eval()"
      ],
      "metadata": {
        "id": "dkXiZgP6E7ZC",
        "colab": {
          "base_uri": "https://localhost:8080/"
        },
        "outputId": "95d19837-0322-4685-ac7a-1adc55ee49b8"
      },
      "id": "dkXiZgP6E7ZC",
      "execution_count": 8,
      "outputs": [
        {
          "output_type": "execute_result",
          "data": {
            "text/plain": [
              "ffnn(\n",
              "  (layer_first): Linear(in_features=5, out_features=64, bias=True)\n",
              "  (layer_hidden): ModuleList(\n",
              "    (0): Linear(in_features=64, out_features=64, bias=True)\n",
              "    (1): Linear(in_features=64, out_features=64, bias=True)\n",
              "    (2): Linear(in_features=64, out_features=64, bias=True)\n",
              "  )\n",
              "  (layer_last): Linear(in_features=64, out_features=1, bias=True)\n",
              ")"
            ]
          },
          "metadata": {},
          "execution_count": 8
        }
      ]
    },
    {
      "cell_type": "code",
      "execution_count": 9,
      "metadata": {
        "id": "uWXBsnSgBYba"
      },
      "outputs": [],
      "source": [
        "def u(model,x):\n",
        "\n",
        "    B=torch.tensor([[0, 1, 0, -2]], dtype=torch.float64).T\n",
        "    v=model(x)\n",
        "    temp = torch.ones((x.shape[0],1),requires_grad=True)\n",
        "    v_x = torch.autograd.grad(v,x,grad_outputs=temp,retain_graph=True,create_graph=True)[0]\n",
        "    v_x = v_x[:,1:].squeeze(0).unsqueeze(-1)\n",
        "    B_numpy= B.detach().numpy()\n",
        "    v_x_numpy=v_x.detach().numpy()\n",
        "    u= B_numpy.T @ v_x_numpy\n",
        "\n",
        "    return -0.5*u\n"
      ],
      "id": "uWXBsnSgBYba"
    },
    {
      "cell_type": "code",
      "source": [
        "x_init= torch.tensor([0.0364,  0.0111,  0.0055, -0.0341],requires_grad=True).unsqueeze(-1)\n",
        "t1d=torch.linspace(0,1,15,requires_grad=True)\n",
        "\n",
        "A=torch.tensor([[0, 1, 0, 0], [0, 0, -0.98, 0],\n",
        "                 [0, 0, 0, 1], [0, 0, 21.56, 0]],dtype=torch.float64).unsqueeze(0)\n",
        "\n",
        "B=torch.tensor([[0, 1, 0, -2]], dtype=torch.float64).T\n",
        "x=x_init\n",
        "states=[x.detach().numpy().squeeze()]\n",
        "controls =[]\n",
        "dt = 0.02\n",
        "for t in t1d:\n",
        "  in_vec=torch.tensor(torch.cat([torch.tensor([t]), x.squeeze(-1)]),\n",
        "    dtype=torch.float64,requires_grad=True).unsqueeze(0).float()\n",
        "  u_opt = u(model, in_vec )\n",
        "  del_x=  A @ x.detach().numpy() +B @ u_opt\n",
        "  del_x = del_x.view(x.shape)\n",
        "  x=x + del_x*dt\n",
        "  states.append(x.detach().numpy().squeeze())\n",
        "  controls.append(u_opt)"
      ],
      "metadata": {
        "colab": {
          "base_uri": "https://localhost:8080/"
        },
        "id": "1LmcQv2qawy7",
        "outputId": "a79595c9-30cc-401e-a23c-b22a10875d63"
      },
      "id": "1LmcQv2qawy7",
      "execution_count": 40,
      "outputs": [
        {
          "output_type": "stream",
          "name": "stderr",
          "text": [
            "/usr/local/lib/python3.7/dist-packages/ipykernel_launcher.py:14: UserWarning: To copy construct from a tensor, it is recommended to use sourceTensor.clone().detach() or sourceTensor.clone().detach().requires_grad_(True), rather than torch.tensor(sourceTensor).\n",
            "  \n"
          ]
        }
      ]
    },
    {
      "cell_type": "code",
      "source": [
        "states = np.asarray(states)\n",
        "controls.append(controls[-1])\n",
        "t1d=t1d.requires_grad_(requires_grad=False).numpy()\n",
        "t1d = np.append(t1d,t1d[-1])\n",
        "controls = np.asarray(controls)\n"
      ],
      "metadata": {
        "id": "-yLimUt7YzYK"
      },
      "id": "-yLimUt7YzYK",
      "execution_count": 41,
      "outputs": []
    },
    {
      "cell_type": "code",
      "execution_count": 42,
      "metadata": {
        "id": "CvIjaHCbLBQX",
        "colab": {
          "base_uri": "https://localhost:8080/",
          "height": 619
        },
        "outputId": "8addcd9c-2e66-4633-8e66-d464807ca04e"
      },
      "outputs": [
        {
          "output_type": "display_data",
          "data": {
            "text/plain": [
              "<Figure size 720x720 with 1 Axes>"
            ],
            "image/png": "[encoded data removed]"
          },
          "metadata": {
            "needs_background": "light"
          }
        },
        {
          "output_type": "display_data",
          "data": {
            "text/plain": [
              "<Figure size 720x720 with 1 Axes>"
            ],
            "image/png": "[encoded data removed]"
          },
          "metadata": {
            "needs_background": "light"
          }
        },
        {
          "output_type": "display_data",
          "data": {
            "text/plain": [
              "<Figure size 432x288 with 0 Axes>"
            ]
          },
          "metadata": {}
        }
      ],
      "source": [
        "plt.figure(figsize=(10,10))\n",
        "plt.subplot(2, 1, 1)\n",
        "#plt.clf()\n",
        "plt.plot(t1d,states[:,2])\n",
        "plt.xlabel('Time (t)')\n",
        "plt.ylabel(r'Angle (in radians)')\n",
        "plt.legend([r'$\\theta$'])\n",
        "plt.show()\n",
        "#plt.savefig(\"Canvas12.png\",dpi=500)\n",
        "plt.figure(figsize=(10,10))\n",
        "plt.subplot(2, 1, 2)\n",
        "plt.plot(t1d,controls.squeeze(),'r')\n",
        "plt.xlabel('Time (t)')\n",
        "plt.ylabel('Control input (u)')\n",
        "plt.legend([r'$u$'])\n",
        "plt.show()\n",
        "plt.tight_layout()\n",
        "plt.show()"
      ],
      "id": "CvIjaHCbLBQX"
    }
  ],
  "metadata": {
    "colab": {
      "collapsed_sections": [],
      "provenance": []
    },
    "kernelspec": {
      "display_name": "Python 3 (ipykernel)",
      "language": "python",
      "name": "python3"
    },
    "language_info": {
      "codemirror_mode": {
        "name": "ipython",
        "version": 3
      },
      "file_extension": ".py",
      "mimetype": "text/x-python",
      "name": "python",
      "nbconvert_exporter": "python",
      "pygments_lexer": "ipython3",
      "version": "3.10.6"
    },
    "accelerator": "GPU",
    "gpuClass": "standard"
  },
  "nbformat": 4,
  "nbformat_minor": 5
}